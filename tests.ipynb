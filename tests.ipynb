{
 "cells": [
  {
   "cell_type": "code",
   "execution_count": 7,
   "metadata": {},
   "outputs": [],
   "source": [
    "import sys\n",
    "import os\n",
    "import numpy as np\n",
    "import time\n",
    "import pygame\n",
    "\n",
    "# Imports des modules\n",
    "from src.rl_environments.TwoRoundRPS import TwoRoundRPSEnvironment\n",
    "from src.rl_algorithms.temporal_difference.q_learning import QLearning\n",
    "from utils.agent import Agent\n",
    "from utils.human_player import HumanPlayer"
   ]
  },
  {
   "cell_type": "code",
   "execution_count": 8,
   "metadata": {},
   "outputs": [
    {
     "name": "stdout",
     "output_type": "stream",
     "text": [
      "🎮 DÉMONSTRATION PYGAME - TWO ROUND ROCK PAPER SCISSORS\n",
      "============================================================\n",
      "1️⃣ Création et entraînement de l'agent...\n",
      "✅ Agent créé: RPSAgent\n",
      "✅ Agent entraîné: RPSAgent\n"
     ]
    }
   ],
   "source": [
    "print(\"🎮 DÉMONSTRATION PYGAME - TWO ROUND ROCK PAPER SCISSORS\")\n",
    "print(\"=\" * 60)\n",
    "    \n",
    "# 1. Créer et entraîner un agent\n",
    "print(\"1️⃣ Création et entraînement de l'agent...\")\n",
    "env = TwoRoundRPSEnvironment()\n",
    "    \n",
    "config = {\n",
    "    'learning_rate': 0.1,\n",
    "    'gamma': 0.9,\n",
    "    'epsilon': 0.1\n",
    "}\n",
    "    \n",
    "algorithm = QLearning.from_config(config, env)\n",
    "algorithm.train(env, num_episodes=1000, verbose=False)\n",
    "    \n",
    "agent = Agent(algorithm, env, \"RPSAgent\")\n",
    "print(f\"✅ Agent entraîné: {agent.agent_name}\")"
   ]
  },
  {
   "cell_type": "code",
   "execution_count": 10,
   "metadata": {},
   "outputs": [
    {
     "name": "stdout",
     "output_type": "stream",
     "text": [
      "\n",
      "📊 ÉVALUATION: RPSAgent\n",
      "Épisodes d'évaluation: 100\n",
      "Progression: 10% - Récompense moyenne: 1.30\n",
      "Progression: 20% - Récompense moyenne: 0.90\n",
      "Progression: 30% - Récompense moyenne: 0.90\n",
      "Progression: 40% - Récompense moyenne: 0.95\n",
      "Progression: 50% - Récompense moyenne: 0.98\n",
      "Progression: 60% - Récompense moyenne: 1.00\n",
      "Progression: 70% - Récompense moyenne: 0.99\n",
      "Progression: 80% - Récompense moyenne: 0.95\n",
      "Progression: 90% - Récompense moyenne: 0.92\n",
      "Progression: 100% - Récompense moyenne: 0.93\n",
      "\n",
      "✅ RÉSULTATS:\n",
      "Récompense moyenne: 0.93 ± 0.82\n",
      "Taux de succès: 0.0%\n",
      "Longueur moyenne: 2.0 étapes\n",
      "Temps d'évaluation: 0.00s\n",
      "\n"
     ]
    },
    {
     "data": {
      "text/plain": [
       "{'agent_name': 'RPSAgent',\n",
       " 'num_episodes': 100,\n",
       " 'avg_reward': np.float64(0.93),\n",
       " 'std_reward': np.float64(0.8155366331440913),\n",
       " 'min_reward': np.float64(0.0),\n",
       " 'max_reward': np.float64(2.0),\n",
       " 'avg_episode_length': np.float64(2.0),\n",
       " 'success_rate': 0.0,\n",
       " 'evaluation_time': 0.003158092498779297,\n",
       " 'timestamp': '2025-07-16T17:53:30.001526'}"
      ]
     },
     "execution_count": 10,
     "metadata": {},
     "output_type": "execute_result"
    }
   ],
   "source": [
    "agent.evaluate_performance()"
   ]
  }
 ],
 "metadata": {
  "kernelspec": {
   "display_name": "Python (my_ml_env)",
   "language": "python",
   "name": "my_ml_env"
  },
  "language_info": {
   "codemirror_mode": {
    "name": "ipython",
    "version": 3
   },
   "file_extension": ".py",
   "mimetype": "text/x-python",
   "name": "python",
   "nbconvert_exporter": "python",
   "pygments_lexer": "ipython3",
   "version": "3.10.12"
  }
 },
 "nbformat": 4,
 "nbformat_minor": 2
}
