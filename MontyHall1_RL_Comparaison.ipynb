{
 "cells": [
  {
   "cell_type": "code",
   "execution_count": null,
   "metadata": {
    "vscode": {
     "languageId": "plaintext"
    }
   },
   "outputs": [],
   "source": [
    "# Comparaison des algorithmes de RL sur Monty Hall 1\n",
    "\n",
    "import os\n",
    "import time\n",
    "import json\n",
    "import numpy as np\n",
    "import matplotlib.pyplot as plt\n",
    "import pandas as pd\n",
    "\n",
    "from src.rl_environments.monty_hall_interactive import MontyHallInteractive\n",
    "from src.rl_algorithms.q_learning import QLearning\n",
    "from src.rl_algorithms.sarsa import SARSA\n",
    "from src.rl_algorithms.dyna_q import DynaQ\n",
    "from src.rl_algorithms.monte_carlo_es import MonteCarloES\n",
    "from src.rl_algorithms.off_policy_mc_control import OffPolicyMCControl\n",
    "from src.rl_algorithms.on_policy_first_visit_mc_control import OnPolicyFirstVisitMCControl\n",
    "from src.rl_algorithms.policy_iteration import PolicyIteration\n",
    "from src.rl_algorithms.value_iteration import ValueIteration\n",
    "\n",
    "# Initialisation de l'environnement Monty Hall 1\n",
    "env = MontyHallInteractive()\n",
    "output_dir = 'outputs/mh1'\n",
    "os.makedirs(output_dir, exist_ok=True)"
   ]
  }
 ],
 "metadata": {
  "language_info": {
   "name": "python"
  }
 },
 "nbformat": 4,
 "nbformat_minor": 2
}
